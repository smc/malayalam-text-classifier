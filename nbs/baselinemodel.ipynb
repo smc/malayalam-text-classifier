{
 "cells": [
  {
   "cell_type": "markdown",
   "id": "d7ddab47-0129-4024-a7d0-2d984029afaf",
   "metadata": {},
   "source": [
    "# Baseline Model"
   ]
  },
  {
   "cell_type": "markdown",
   "id": "6d3ad7e0-5931-4e92-a1bc-48b5742df39a",
   "metadata": {},
   "source": [
    "## Word Tokenizer & logistic regression"
   ]
  },
  {
   "cell_type": "markdown",
   "id": "ccafe0b5-8ded-4860-8d08-ed34b0ebd0c7",
   "metadata": {},
   "source": [
    "! "
   ]
  },
  {
   "cell_type": "code",
   "execution_count": 3,
   "id": "e1641122-c8d1-4342-b6d5-1e973a261975",
   "metadata": {},
   "outputs": [],
   "source": [
    "import nltk\n",
    "from sklearn.model_selection import train_test_split"
   ]
  },
  {
   "cell_type": "code",
   "execution_count": null,
   "id": "f1b8fb03-a8a6-4b97-9e4d-3a3b8bd908d4",
   "metadata": {},
   "outputs": [],
   "source": []
  }
 ],
 "metadata": {
  "kernelspec": {
   "display_name": "Python 3 (ipykernel)",
   "language": "python",
   "name": "python3"
  },
  "language_info": {
   "codemirror_mode": {
    "name": "ipython",
    "version": 3
   },
   "file_extension": ".py",
   "mimetype": "text/x-python",
   "name": "python",
   "nbconvert_exporter": "python",
   "pygments_lexer": "ipython3",
   "version": "3.9.10"
  }
 },
 "nbformat": 4,
 "nbformat_minor": 5
}
